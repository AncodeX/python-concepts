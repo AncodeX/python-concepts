{
 "cells": [
  {
   "cell_type": "code",
   "execution_count": 64,
   "metadata": {},
   "outputs": [],
   "source": [
    "# La clase person esta heredando de su padre object\n",
    "class Person(object):\n",
    "    # atributos\n",
    "    name:str\n",
    "    lastname:str\n",
    "    age:int\n",
    "    \n",
    "    # constructor\n",
    "    def __init__(self, name, lastname, age):\n",
    "        self.name = name # publico\n",
    "        self.lastname = lastname # publico \n",
    "        self.__age = age # estado privado __age\n",
    "\n",
    "    # metodo getter\n",
    "    @property\n",
    "    def age(self):\n",
    "        return self.__age\n",
    "\n",
    "    # metodo setter\n",
    "    @age.setter\n",
    "    def age(self, age):\n",
    "        self.__age = age"
   ]
  },
  {
   "cell_type": "code",
   "execution_count": 65,
   "metadata": {},
   "outputs": [
    {
     "name": "stdout",
     "output_type": "stream",
     "text": [
      "Daniel Ramirez 19\n",
      "20\n"
     ]
    }
   ],
   "source": [
    "# Instancia la clase Person, es decir estamos creando un objeto\n",
    "person = Person(\"Daniel\", \"Ramirez\", 19)\n",
    "\n",
    "# imprimir los atributos name, lastname y age\n",
    "print(f\"{person.name} {person.lastname} {person.age}\")\n",
    "\n",
    "# Usando el setter\n",
    "person.age = 20\n",
    "\n",
    "# Usando el getter\n",
    "print(person.age)"
   ]
  },
  {
   "cell_type": "code",
   "execution_count": 91,
   "metadata": {},
   "outputs": [],
   "source": [
    "class Pet(object):\n",
    "\n",
    "    def __init__(self, raza, color, talla):\n",
    "        self.__raza = raza\n",
    "        self.__color = color\n",
    "        self.__talla = talla\n",
    "\n",
    "    @property\n",
    "    def raza(self):\n",
    "        return self.__raza\n",
    "    \n",
    "    @raza.setter\n",
    "    def raza(self, raza):\n",
    "        self.__raza = raza\n",
    "\n",
    "    @property\n",
    "    def color(self):\n",
    "        return self.__color\n",
    "    \n",
    "    @color.setter\n",
    "    def color(self, color):\n",
    "        self.__color = color\n",
    "\n",
    "    @property\n",
    "    def talla(self):\n",
    "        return self.__talla\n",
    "    \n",
    "    @talla.setter\n",
    "    def talla(self, talla):\n",
    "        self.__talla = talla"
   ]
  },
  {
   "cell_type": "code",
   "execution_count": 92,
   "metadata": {},
   "outputs": [
    {
     "name": "stdout",
     "output_type": "stream",
     "text": [
      "Mi mascota es un perro de raza pitbull de color blanco y su talla es de 20.3\n",
      "Mi mascota es un perro de raza dobermant de color blanco y su talla es de 20.3\n"
     ]
    }
   ],
   "source": [
    "data = {\n",
    "    \"color\": \"blanco\",\n",
    "    \"talla\": 20.3,\n",
    "    \"raza\": \"pitbull\",\n",
    "}\n",
    "\n",
    "pet = Pet(**data)\n",
    "\n",
    "print(f\"Mi mascota es un perro de raza {pet.raza} de color {pet.color} y su talla es de {pet.talla}\")\n",
    "\n",
    "pet.raza = \"dobermant\"\n",
    "\n",
    "print(f\"Mi mascota es un perro de raza {pet.raza} de color {pet.color} y su talla es de {pet.talla}\")"
   ]
  }
 ],
 "metadata": {
  "kernelspec": {
   "display_name": "Python 3",
   "language": "python",
   "name": "python3"
  },
  "language_info": {
   "codemirror_mode": {
    "name": "ipython",
    "version": 3
   },
   "file_extension": ".py",
   "mimetype": "text/x-python",
   "name": "python",
   "nbconvert_exporter": "python",
   "pygments_lexer": "ipython3",
   "version": "3.11.1"
  },
  "orig_nbformat": 4
 },
 "nbformat": 4,
 "nbformat_minor": 2
}

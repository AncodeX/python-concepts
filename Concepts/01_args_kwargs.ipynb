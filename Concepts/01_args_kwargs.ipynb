{
 "cells": [
  {
   "cell_type": "code",
   "execution_count": 4,
   "metadata": {},
   "outputs": [
    {
     "name": "stdout",
     "output_type": "stream",
     "text": [
      "<class 'tuple'>\n",
      "9\n"
     ]
    }
   ],
   "source": [
    "# *args\n",
    "\n",
    "def my_func(*args):\n",
    "    suma = 0\n",
    "    print(type(args))\n",
    "    for n in args:\n",
    "        suma += n\n",
    "    return suma\n",
    "\n",
    "print(my_func(2,3,4))"
   ]
  },
  {
   "cell_type": "code",
   "execution_count": 3,
   "metadata": {},
   "outputs": [
    {
     "name": "stdout",
     "output_type": "stream",
     "text": [
      "<class 'dict'>\n",
      "marca = Huawei\n",
      "modelo = 2019\n",
      "color = negro\n"
     ]
    }
   ],
   "source": [
    "# **kwargs\n",
    "\n",
    "def my_func(**kwargs):\n",
    "    print(type(kwargs))\n",
    "    for key, value in kwargs.items():\n",
    "        print(f\"{key} = {value}\")\n",
    "\n",
    "my_func(marca=\"Huawei\", modelo = 2019, color=\"negro\")"
   ]
  },
  {
   "cell_type": "code",
   "execution_count": 7,
   "metadata": {},
   "outputs": [
    {
     "name": "stdout",
     "output_type": "stream",
     "text": [
      "item, 2, 2.3\n"
     ]
    }
   ],
   "source": [
    "# Usar *args y **kwargs para llamar funciones\n",
    "\n",
    "def my_func(x, y, z):\n",
    "    print(f\"{x}, {y}, {z}\")\n",
    "\n",
    "args = (\"item\", 2, 2.3)\n",
    "\n",
    "my_func(*args)"
   ]
  }
 ],
 "metadata": {
  "kernelspec": {
   "display_name": "Python 3",
   "language": "python",
   "name": "python3"
  },
  "language_info": {
   "codemirror_mode": {
    "name": "ipython",
    "version": 3
   },
   "file_extension": ".py",
   "mimetype": "text/x-python",
   "name": "python",
   "nbconvert_exporter": "python",
   "pygments_lexer": "ipython3",
   "version": "3.11.1"
  },
  "orig_nbformat": 4
 },
 "nbformat": 4,
 "nbformat_minor": 2
}

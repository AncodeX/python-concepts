{
 "cells": [
  {
   "cell_type": "code",
   "execution_count": 77,
   "metadata": {},
   "outputs": [],
   "source": [
    "# Crear un dictionario\n",
    "\n",
    "telefono = dict()"
   ]
  },
  {
   "cell_type": "code",
   "execution_count": 81,
   "metadata": {},
   "outputs": [
    {
     "name": "stdout",
     "output_type": "stream",
     "text": [
      "{'marca': 'Huawei'}\n"
     ]
    }
   ],
   "source": [
    "# Manipulando el dicitonario - agregar\n",
    "\n",
    "telefono[\"marca\"] = \"Huawei\"\n",
    "\n",
    "print(telefono)"
   ]
  },
  {
   "cell_type": "code",
   "execution_count": 79,
   "metadata": {},
   "outputs": [
    {
     "name": "stdout",
     "output_type": "stream",
     "text": [
      "marca = Huawei\n"
     ]
    }
   ],
   "source": [
    "# Obtener las claves y valores\n",
    "\n",
    "my_keys = [i for i in telefono.keys()]\n",
    "my_values = [i for i in telefono.values()]\n",
    "\n",
    "for key, value in telefono.items():\n",
    "    print(f\"{key} = {value}\")"
   ]
  },
  {
   "cell_type": "code",
   "execution_count": 80,
   "metadata": {},
   "outputs": [
    {
     "name": "stdout",
     "output_type": "stream",
     "text": [
      "{}\n"
     ]
    }
   ],
   "source": [
    "# Eliminar todo el contenido del\n",
    "\n",
    "telefono.clear()\n",
    "\n",
    "print(telefono)"
   ]
  },
  {
   "cell_type": "code",
   "execution_count": 82,
   "metadata": {},
   "outputs": [
    {
     "name": "stdout",
     "output_type": "stream",
     "text": [
      "{'marca': 'Huawei'} = {'marca': 'Huawei'}\n"
     ]
    }
   ],
   "source": [
    "# Copiar el diccionario\n",
    "\n",
    "telefono_copia = telefono.copy()\n",
    "\n",
    "print(f\"{telefono_copia} = {telefono}\")"
   ]
  },
  {
   "cell_type": "code",
   "execution_count": 103,
   "metadata": {},
   "outputs": [
    {
     "name": "stdout",
     "output_type": "stream",
     "text": [
      "{'peso': 0, 'color': 0, 'altura': 0}\n"
     ]
    }
   ],
   "source": [
    "# Crear un dictionario con el mismo valor\n",
    "\n",
    "new_dict = (\"peso\", \"color\", \"altura\")\n",
    "value = 0\n",
    "\n",
    "new_dict = dict.fromkeys(new_dict, value)\n",
    "\n",
    "print(new_dict)"
   ]
  },
  {
   "cell_type": "code",
   "execution_count": 87,
   "metadata": {},
   "outputs": [
    {
     "name": "stdout",
     "output_type": "stream",
     "text": [
      "{'color': 0, 'altura': 0}\n"
     ]
    }
   ],
   "source": [
    "# Eliminar un clave del diccionario\n",
    "\n",
    "new_dict.pop(\"peso\")\n",
    "\n",
    "print(new_dict)"
   ]
  },
  {
   "cell_type": "code",
   "execution_count": 104,
   "metadata": {},
   "outputs": [
    {
     "name": "stdout",
     "output_type": "stream",
     "text": [
      "{'peso': 72, 'color': 'rojo', 'altura': 30.2, 'marca': 'palo'}\n"
     ]
    }
   ],
   "source": [
    "# Actualizar los valores\n",
    "\n",
    "new_dict.update(peso = 72, color=\"rojo\", altura=30.2)\n",
    "\n",
    "new_dict.update(marca=\"palo\") # Agrega nuevas\n",
    "\n",
    "print(new_dict)"
   ]
  },
  {
   "cell_type": "code",
   "execution_count": 100,
   "metadata": {},
   "outputs": [
    {
     "name": "stdout",
     "output_type": "stream",
     "text": [
      "{'peso': 0, 'color': 0}\n"
     ]
    }
   ],
   "source": [
    "# Elimina el ultimo key, value del dictinario\n",
    "\n",
    "new_dict.popitem()\n",
    "print(new_dict)"
   ]
  },
  {
   "cell_type": "code",
   "execution_count": 105,
   "metadata": {},
   "outputs": [
    {
     "name": "stdout",
     "output_type": "stream",
     "text": [
      "palo\n"
     ]
    }
   ],
   "source": [
    "# Nos regresa el valor que le especifiquemos con la clave\n",
    "\n",
    "print(new_dict.get(\"marca\"))"
   ]
  }
 ],
 "metadata": {
  "kernelspec": {
   "display_name": "Python 3",
   "language": "python",
   "name": "python3"
  },
  "language_info": {
   "codemirror_mode": {
    "name": "ipython",
    "version": 3
   },
   "file_extension": ".py",
   "mimetype": "text/x-python",
   "name": "python",
   "nbconvert_exporter": "python",
   "pygments_lexer": "ipython3",
   "version": "3.11.1"
  },
  "orig_nbformat": 4
 },
 "nbformat": 4,
 "nbformat_minor": 2
}

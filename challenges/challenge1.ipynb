{
 "cells": [
  {
   "attachments": {},
   "cell_type": "markdown",
   "metadata": {},
   "source": [
    "# Reto #0: EL FAMOSO \"FIZZ BUZZ”"
   ]
  },
  {
   "cell_type": "code",
   "execution_count": 10,
   "metadata": {},
   "outputs": [],
   "source": [
    "\"\"\"\n",
    " * Enunciado: Escribe un programa que muestre por consola (con un print) los números de 1 a 100 (ambos incluidos y con un salto de línea entre cada impresión), sustituyendo los siguientes:\n",
    " * - Múltiplos de 3 por la palabra \"fizz\".\n",
    " * - Múltiplos de 5 por la palabra \"buzz\".\n",
    " * - Múltiplos de 3 y de 5 a la vez por la palabra \"fizzbuzz\".\n",
    "\"\"\"\n",
    "\n",
    "def fizz_buzz():\n",
    "    for i in range(1, 101):\n",
    "        \n",
    "        three_mult = i%3 == 0\n",
    "        five_mult = i%5 == 0\n",
    "\n",
    "        if three_mult and five_mult:\n",
    "            print(\"fizzbuzz\")\n",
    "        elif three_mult:\n",
    "            print(\"fizz\")\n",
    "        elif five_mult:\n",
    "            print(\"buzz\")\n",
    "        else:\n",
    "            print(i)"
   ]
  },
  {
   "cell_type": "code",
   "execution_count": null,
   "metadata": {},
   "outputs": [],
   "source": [
    "fizz_buzz()"
   ]
  },
  {
   "attachments": {},
   "cell_type": "markdown",
   "metadata": {},
   "source": [
    "# Reto #1: ¿ES UN ANAGRAMA?"
   ]
  },
  {
   "cell_type": "code",
   "execution_count": 8,
   "metadata": {},
   "outputs": [
    {
     "name": "stdout",
     "output_type": "stream",
     "text": [
      "No es un anagrama\n"
     ]
    }
   ],
   "source": [
    "\"\"\"\n",
    " * Escribe una función que reciba dos palabras (String) y retorne\n",
    " * verdadero o falso (Bool) según sean o no anagramas.\n",
    " * - Un Anagrama consiste en formar una palabra reordenando TODAS\n",
    " *   las letras de otra palabra inicial.\n",
    " * - NO hace falta comprobar que ambas palabras existan.\n",
    " * - Dos palabras exactamente iguales no son anagrama.\n",
    "\"\"\" \n",
    "\n",
    "def isAnagram(a:str, b:str):\n",
    "    return \"Es un anagrama\" if sorted(a) == sorted(b) else \"No es un anagrama\"\n",
    "\n",
    "if __name__ == \"__main__\":\n",
    "    a:str = input(\"Input string: \").lower()\n",
    "    b:str = input(\"Input other string: \").lower()\n",
    "    \n",
    "    print(isAnagram(a, b))\n"
   ]
  },
  {
   "attachments": {},
   "cell_type": "markdown",
   "metadata": {},
   "source": [
    "# Reto #2: LA SUCESIÓN DE FIBONACCI"
   ]
  },
  {
   "cell_type": "code",
   "execution_count": 16,
   "metadata": {},
   "outputs": [],
   "source": [
    "\"\"\"\n",
    " * Escribe un programa que imprima los 50 primeros números de la sucesión\n",
    " * de Fibonacci empezando en 0.\n",
    " * - La serie Fibonacci se compone por una sucesión de números en\n",
    " *   la que el siguiente siempre es la suma de los dos anteriores.\n",
    " *   0, 1, 1, 2, 3, 5, 8, 13...\n",
    "\"\"\"\n",
    "\n",
    "def fibonacci(n:int = 0):\n",
    "    a:int = 0; b:int = 1\n",
    "\n",
    "    for i in range(n):\n",
    "        print(a)\n",
    "\n",
    "        c:int = a+b\n",
    "        a = b; b = c\n",
    "\n",
    "fibonacci()"
   ]
  }
 ],
 "metadata": {
  "kernelspec": {
   "display_name": "Python 3",
   "language": "python",
   "name": "python3"
  },
  "language_info": {
   "codemirror_mode": {
    "name": "ipython",
    "version": 3
   },
   "file_extension": ".py",
   "mimetype": "text/x-python",
   "name": "python",
   "nbconvert_exporter": "python",
   "pygments_lexer": "ipython3",
   "version": "3.11.1"
  },
  "orig_nbformat": 4
 },
 "nbformat": 4,
 "nbformat_minor": 2
}
